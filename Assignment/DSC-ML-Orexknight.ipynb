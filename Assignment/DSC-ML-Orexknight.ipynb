{
 "cells": [
  {
   "cell_type": "code",
   "execution_count": null,
   "metadata": {},
   "outputs": [],
   "source": [
    "#dsc assignment question 1: Write different functions that will calculate the mean, median, mode,standard deviation, percentiles of a list containing many numbers"
   ]
  },
  {
   "cell_type": "code",
   "execution_count": null,
   "metadata": {},
   "outputs": [],
   "source": [
    "def mean(list = []): #defines a function and accepts a list\n",
    "    total = sum(list) #sums items in the list and saves it in a variable\n",
    "    return total/len(list) #displays the mean result of the list\n",
    "\n",
    "\n",
    "        "
   ]
  },
  {
   "cell_type": "code",
   "execution_count": null,
   "metadata": {},
   "outputs": [],
   "source": [
    "mean([1, 2, 3, 4, 5, 6])\n"
   ]
  },
  {
   "cell_type": "code",
   "execution_count": null,
   "metadata": {},
   "outputs": [],
   "source": [
    "def median(list = []):#defines a function and accepts a list\n",
    "    num = len(list)#counts the number of items in the list\n",
    "    if num % 2 == 0:#checks whether number of items in list is odd or even\n",
    "        new_list = sorted(list)#sorts the list in ascending order\n",
    "        print(new_list)\n",
    "        mid = num/2\n",
    "        index= int(mid)\n",
    "        median = (new_list[index-1] + new_list[index]) / 2#returns the two middle values of the list divided by two\n",
    "        \n",
    "    \n",
    "    elif num % 2 == 1:#checks whether number of items in list is odd or even\n",
    "        new_list = sorted(list)#sorts the list in ascending order\n",
    "        print(new_list)\n",
    "        mid = num/2\n",
    "        index= int(mid)\n",
    "        median = new_list[index]\n",
    "    \n",
    "    return median\n"
   ]
  },
  {
   "cell_type": "code",
   "execution_count": null,
   "metadata": {},
   "outputs": [],
   "source": [
    "median([1, 2, 3, 6, 4])"
   ]
  },
  {
   "cell_type": "code",
   "execution_count": null,
   "metadata": {},
   "outputs": [],
   "source": [
    "def percentile(nth_percentile, list = []): #defines a function and accepts a list\n",
    "    num_of_observations = len(list)#counts the number of items in the list\n",
    "    return (nth_percentile/100) * num_of_observations# returns the chosen percentile\n",
    "    \n"
   ]
  },
  {
   "cell_type": "code",
   "execution_count": null,
   "metadata": {},
   "outputs": [],
   "source": [
    "percentile(25, [1, 2, 3, 6, 4])\n"
   ]
  },
  {
   "cell_type": "code",
   "execution_count": null,
   "metadata": {},
   "outputs": [],
   "source": [
    "def standard_deviation(list = []):#defines a function and accepts a list\n",
    "    num_of_items = len(list)len(list)#counts the number of items in the lis\n",
    "    sum_of_items = sum(list)#sums items in the list and saves it in a variable\n",
    "    mean = sum_of_items/num_of_items#gets the mean of the list\n",
    "    list_variance = []\n",
    "    for i in list:\n",
    "        dispersion = (i - mean) ** 2 #subtracts the mean from the list items and squares them\n",
    "        list_variance.append(dispersion)#appends the dispersion to the variance list\n",
    "    sum_of_variance = sum(list_variance)\n",
    "    variance = sum_of_variance/num_of_items\n",
    "    standard_deviation = variance ** 0.5#finds the square root of the variance\n",
    "    \n",
    "    return standard_deviation"
   ]
  },
  {
   "cell_type": "code",
   "execution_count": null,
   "metadata": {},
   "outputs": [],
   "source": [
    "standard_deviation([1, 2, 3, 6, 4])"
   ]
  },
  {
   "cell_type": "code",
   "execution_count": null,
   "metadata": {},
   "outputs": [],
   "source": [
    "#dsc assignment question 2: Code a rock, paper and scissors game"
   ]
  },
  {
   "cell_type": "code",
   "execution_count": 3,
   "metadata": {},
   "outputs": [
    {
     "name": "stdout",
     "output_type": "stream",
     "text": [
      "Rock Paper Sciccors a.k.a RPS is a very simple game to play\n",
      "paper beats rock, rock beats scissors and scissors beats paper\n",
      "input either rock, paper or scissors\n",
      "Enter your choice: \n",
      "\n",
      "paper\n",
      "Computer plays  rock\n",
      "You won this round continue\n",
      "Enter your choice: \n",
      "\n",
      "rock\n",
      "Computer plays  scissors\n",
      "You won this round continue\n",
      "Enter your choice: \n",
      "\n",
      "paper\n",
      "Computer plays  paper\n",
      "You drew Continue\n",
      "Enter your choice: \n",
      "\n",
      "scissors\n",
      "Computer plays  scissors\n",
      "You drew Continue\n",
      "Enter your choice: \n",
      "\n",
      "paper\n",
      "Computer plays  scissors\n",
      "You have 2 lives left\n",
      "Enter your choice: \n",
      "\n",
      "rock\n",
      "Computer plays  scissors\n",
      "You won this round continue\n",
      "Enter your choice: \n",
      "\n",
      "paper\n",
      "Computer plays  rock\n",
      "You won this round continue\n",
      "Enter your choice: \n",
      "\n",
      "paper\n",
      "Computer plays  rock\n",
      "You won this round continue\n",
      "Enter your choice: \n",
      "\n",
      "paper\n",
      "Computer plays  paper\n",
      "You drew Continue\n",
      "Enter your choice: \n",
      "\n",
      "paper\n",
      "Computer plays  rock\n",
      "You won this round continue\n",
      "Enter your choice: \n",
      "\n",
      "paper\n",
      "Computer plays  scissors\n",
      "You have 1 lives left\n",
      "Enter your choice: \n",
      "\n",
      "paper\n",
      "Computer plays  rock\n",
      "You won this round continue\n",
      "Enter your choice: \n",
      "\n",
      "rock\n",
      "Computer plays  scissors\n",
      "You won this round continue\n",
      "Enter your choice: \n",
      "\n",
      "rock\n",
      "Computer plays  scissors\n",
      "You won this round continue\n",
      "Enter your choice: \n",
      "\n",
      "paper\n",
      "Computer plays  paper\n",
      "You drew Continue\n",
      "Enter your choice: \n",
      "\n",
      "paper\n",
      "Computer plays  rock\n",
      "You won this round continue\n",
      "Enter your choice: \n",
      "\n",
      "scissors\n",
      "Computer plays  paper\n",
      "You won this round continue\n",
      "Enter your choice: \n",
      "\n",
      "scissors\n",
      "Computer plays  rock\n",
      "You have 0 lives left\n",
      "you lost\n",
      " you had 11points\n"
     ]
    }
   ],
   "source": [
    "import random\n",
    "\n",
    "\n",
    "print(\"Rock Paper Sciccors a.k.a RPS is a very simple game to play\\npaper beats rock, rock beats scissors and scissors beats paper\\ninput either rock, paper or scissors\")\n",
    "\n",
    "choice = ['paper', 'rock', 'scissors']#list of choices for the computer\n",
    "lives = 3\n",
    "points = 0\n",
    "\n",
    "while lives > 0:\n",
    "    usr_choice = input('Enter your choice: \\n\\n')#collects user input\n",
    "    compt_choice = random.choice(choice)#generates computer's choice\n",
    "    print(\"player chooses \" + str(usr_choice)# displays user choice\n",
    "    print(\"Computer plays \",compt_choice)\n",
    "    #compares choices based on the rules of the rock, paper and scissors game\n",
    "    if usr_choice == compt_choice:\n",
    "        print(\"You drew Continue\")\n",
    "        continue\n",
    "    elif usr_choice == 'paper' and compt_choice == 'rock':\n",
    "        print(\"You won this round continue\")\n",
    "        points += 1\n",
    "        continue\n",
    "    elif usr_choice == 'scissors' and compt_choice == 'rock':\n",
    "        lives -= 1\n",
    "        print(\"You have \" + str(lives) + \" lives left\")\n",
    "        continue\n",
    "    elif usr_choice == 'rock' and compt_choice == 'paper':\n",
    "        lives -= 1\n",
    "        print(\"You have \" + str(lives) + \" lives left\")\n",
    "        continue\n",
    "    elif usr_choice == 'rock' and compt_choice == 'scissors':\n",
    "        print(\"You won this round continue\")\n",
    "        points += 1\n",
    "        continue\n",
    "    elif usr_choice == 'scissors' and compt_choice == 'paper':\n",
    "        print(\"You won this round continue\")\n",
    "        points += 1\n",
    "        continue\n",
    "    elif usr_choice == 'paper' and compt_choice == 'scissors':\n",
    "        lives -= 1\n",
    "        print(\"You have \" + str(lives) + \" lives left\")\n",
    "        continue\n",
    "    else:\n",
    "            print(\"invalid entry\\n\\n\")\n",
    "    \n",
    "if lives == 0:\n",
    "    print(\"you lost\\n you had \" + str(points) + \"points\")\n",
    "    "
   ]
  }
 ],
 "metadata": {
  "kernelspec": {
   "display_name": "Python 3",
   "language": "python",
   "name": "python3"
  },
  "language_info": {
   "codemirror_mode": {
    "name": "ipython",
    "version": 3
   },
   "file_extension": ".py",
   "mimetype": "text/x-python",
   "name": "python",
   "nbconvert_exporter": "python",
   "pygments_lexer": "ipython3",
   "version": "3.7.3"
  }
 },
 "nbformat": 4,
 "nbformat_minor": 2
}
